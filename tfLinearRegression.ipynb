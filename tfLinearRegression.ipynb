{
 "cells": [
  {
   "cell_type": "code",
   "execution_count": 55,
   "metadata": {},
   "outputs": [],
   "source": [
    "from __future__ import absolute_import, division, print_function, unicode_literals\n",
    "\n",
    "import pandas as pd\n",
    "import tensorflow as tf\n",
    "import numpy as np\n",
    "import matplotlib.pyplot as plt\n",
    "from IPython.display import clear_output\n",
    "# from six.moves import urlli\n",
    "import tensorflow.compat.v2.feature_column as fc\n",
    "from sklearn.model_selection import train_test_split\n",
    "from sklearn.preprocessing import LabelEncoder\n",
    "from sklearn.preprocessing import OrdinalEncoder\n",
    "\n",
    "test = pd.read_csv(\"data/test.csv\")\n",
    "train =pd.read_csv(\"data/train.csv\")"
   ]
  },
  {
   "cell_type": "markdown",
   "metadata": {},
   "source": [
    "find out correlation matrix in tensorflow\n",
    "confusion matrix\n",
    "recall\n",
    "p values\n",
    "probablity based models\n",
    "logistic regression\n"
   ]
  },
  {
   "cell_type": "code",
   "execution_count": 56,
   "metadata": {},
   "outputs": [
    {
     "data": {
      "text/html": [
       "<div>\n",
       "<style scoped>\n",
       "    .dataframe tbody tr th:only-of-type {\n",
       "        vertical-align: middle;\n",
       "    }\n",
       "\n",
       "    .dataframe tbody tr th {\n",
       "        vertical-align: top;\n",
       "    }\n",
       "\n",
       "    .dataframe thead th {\n",
       "        text-align: right;\n",
       "    }\n",
       "</style>\n",
       "<table border=\"1\" class=\"dataframe\">\n",
       "  <thead>\n",
       "    <tr style=\"text-align: right;\">\n",
       "      <th></th>\n",
       "      <th>CreditScore</th>\n",
       "      <th>Geography</th>\n",
       "      <th>Gender</th>\n",
       "      <th>Age</th>\n",
       "      <th>Tenure</th>\n",
       "      <th>NumOfProducts</th>\n",
       "      <th>HasCrCard</th>\n",
       "      <th>IsActiveMember</th>\n",
       "      <th>EstimatedSalary</th>\n",
       "    </tr>\n",
       "  </thead>\n",
       "  <tbody>\n",
       "    <tr>\n",
       "      <th>51719</th>\n",
       "      <td>659</td>\n",
       "      <td>Germany</td>\n",
       "      <td>Male</td>\n",
       "      <td>48.0</td>\n",
       "      <td>4</td>\n",
       "      <td>2</td>\n",
       "      <td>0</td>\n",
       "      <td>1</td>\n",
       "      <td>134094.02</td>\n",
       "    </tr>\n",
       "    <tr>\n",
       "      <th>77286</th>\n",
       "      <td>756</td>\n",
       "      <td>Germany</td>\n",
       "      <td>Female</td>\n",
       "      <td>54.0</td>\n",
       "      <td>4</td>\n",
       "      <td>4</td>\n",
       "      <td>1</td>\n",
       "      <td>0</td>\n",
       "      <td>7166.71</td>\n",
       "    </tr>\n",
       "    <tr>\n",
       "      <th>43625</th>\n",
       "      <td>636</td>\n",
       "      <td>France</td>\n",
       "      <td>Male</td>\n",
       "      <td>46.0</td>\n",
       "      <td>5</td>\n",
       "      <td>1</td>\n",
       "      <td>1</td>\n",
       "      <td>0</td>\n",
       "      <td>48986.18</td>\n",
       "    </tr>\n",
       "    <tr>\n",
       "      <th>26151</th>\n",
       "      <td>613</td>\n",
       "      <td>France</td>\n",
       "      <td>Male</td>\n",
       "      <td>47.0</td>\n",
       "      <td>3</td>\n",
       "      <td>2</td>\n",
       "      <td>1</td>\n",
       "      <td>1</td>\n",
       "      <td>17802.42</td>\n",
       "    </tr>\n",
       "    <tr>\n",
       "      <th>60732</th>\n",
       "      <td>711</td>\n",
       "      <td>Germany</td>\n",
       "      <td>Female</td>\n",
       "      <td>51.0</td>\n",
       "      <td>4</td>\n",
       "      <td>1</td>\n",
       "      <td>0</td>\n",
       "      <td>0</td>\n",
       "      <td>172618.52</td>\n",
       "    </tr>\n",
       "  </tbody>\n",
       "</table>\n",
       "</div>"
      ],
      "text/plain": [
       "       CreditScore Geography  Gender   Age  Tenure  NumOfProducts  HasCrCard  \\\n",
       "51719          659   Germany    Male  48.0       4              2          0   \n",
       "77286          756   Germany  Female  54.0       4              4          1   \n",
       "43625          636    France    Male  46.0       5              1          1   \n",
       "26151          613    France    Male  47.0       3              2          1   \n",
       "60732          711   Germany  Female  51.0       4              1          0   \n",
       "\n",
       "       IsActiveMember  EstimatedSalary  \n",
       "51719               1        134094.02  \n",
       "77286               0          7166.71  \n",
       "43625               0         48986.18  \n",
       "26151               1         17802.42  \n",
       "60732               0        172618.52  "
      ]
     },
     "execution_count": 56,
     "metadata": {},
     "output_type": "execute_result"
    }
   ],
   "source": [
    "#cleaning data  \n",
    "SPECIES = ['Closed', 'Open']\n",
    "dftest = test.drop(columns=[\"CustomerId\", \"Surname\",\"Balance\",\"id\"])\n",
    "dftrain = train.drop(columns=[\"CustomerId\", \"Surname\",\"Balance\",\"id\"])\n",
    "\n",
    "dftrain['HasCrCard']=pd.Series(np.where(dftrain.HasCrCard.values == 0.0, 0, 1),dftrain.index) #setting these to an int without a decimal\n",
    "dftest['HasCrCard']=pd.Series(np.where(dftest.HasCrCard.values == 0.0, 0, 1),dftest.index)\n",
    "dftrain['IsActiveMember']=pd.Series(np.where(dftrain.IsActiveMember.values == 0.0, 0, 1),dftrain.index) #setting these to an int without a decimal\n",
    "dftest['IsActiveMember']=pd.Series(np.where(dftest.IsActiveMember.values == 0.0, 0, 1),dftest.index)\n",
    "\n",
    "\n",
    "y = dftrain.pop('Exited')\n",
    "\n",
    "X_train, X_eval, y_train, y_eval = train_test_split(dftrain, y, test_size=0.15, random_state=1)\n",
    "\n",
    "\n",
    "#y_train=dftrain.pop('Exited')\n",
    "#testdata doesn't have Exited test_y=dftest.pop('Exited')\n",
    "#need to switch the balance to 0 and 1s\n",
    "#dftrain['Exited']=pd.Series(np.where(dftrain.Exited.values == 0, 0, 1),dftrain.index)\n",
    "#dftest['Exited']=pd.Series(np.where(dftest.Exited.values == 0, 0, 1),dftest.index)\n",
    "\n",
    "#Changed modes SPECIES = ['Closed', 'Open']\n",
    "#dfeval = dftrain.iloc[:-1000]\n",
    "#y_eval = y_train.iloc[:-1000]\n",
    "X_eval.head()\n"
   ]
  },
  {
   "cell_type": "code",
   "execution_count": 57,
   "metadata": {},
   "outputs": [
    {
     "data": {
      "text/html": [
       "<div>\n",
       "<style scoped>\n",
       "    .dataframe tbody tr th:only-of-type {\n",
       "        vertical-align: middle;\n",
       "    }\n",
       "\n",
       "    .dataframe tbody tr th {\n",
       "        vertical-align: top;\n",
       "    }\n",
       "\n",
       "    .dataframe thead th {\n",
       "        text-align: right;\n",
       "    }\n",
       "</style>\n",
       "<table border=\"1\" class=\"dataframe\">\n",
       "  <thead>\n",
       "    <tr style=\"text-align: right;\">\n",
       "      <th></th>\n",
       "      <th>CreditScore</th>\n",
       "      <th>Age</th>\n",
       "      <th>Tenure</th>\n",
       "      <th>NumOfProducts</th>\n",
       "      <th>HasCrCard</th>\n",
       "      <th>IsActiveMember</th>\n",
       "      <th>EstimatedSalary</th>\n",
       "    </tr>\n",
       "  </thead>\n",
       "  <tbody>\n",
       "    <tr>\n",
       "      <th>count</th>\n",
       "      <td>140278.000000</td>\n",
       "      <td>140278.000000</td>\n",
       "      <td>140278.000000</td>\n",
       "      <td>140278.000000</td>\n",
       "      <td>140278.000000</td>\n",
       "      <td>140278.000000</td>\n",
       "      <td>140278.000000</td>\n",
       "    </tr>\n",
       "    <tr>\n",
       "      <th>mean</th>\n",
       "      <td>656.406685</td>\n",
       "      <td>38.132314</td>\n",
       "      <td>5.021921</td>\n",
       "      <td>1.555076</td>\n",
       "      <td>0.754523</td>\n",
       "      <td>0.497712</td>\n",
       "      <td>112497.066333</td>\n",
       "    </tr>\n",
       "    <tr>\n",
       "      <th>std</th>\n",
       "      <td>80.129412</td>\n",
       "      <td>8.878197</td>\n",
       "      <td>2.808255</td>\n",
       "      <td>0.547598</td>\n",
       "      <td>0.430371</td>\n",
       "      <td>0.499997</td>\n",
       "      <td>50344.878111</td>\n",
       "    </tr>\n",
       "    <tr>\n",
       "      <th>min</th>\n",
       "      <td>350.000000</td>\n",
       "      <td>18.000000</td>\n",
       "      <td>0.000000</td>\n",
       "      <td>1.000000</td>\n",
       "      <td>0.000000</td>\n",
       "      <td>0.000000</td>\n",
       "      <td>11.580000</td>\n",
       "    </tr>\n",
       "    <tr>\n",
       "      <th>25%</th>\n",
       "      <td>597.000000</td>\n",
       "      <td>32.000000</td>\n",
       "      <td>3.000000</td>\n",
       "      <td>1.000000</td>\n",
       "      <td>1.000000</td>\n",
       "      <td>0.000000</td>\n",
       "      <td>74510.650000</td>\n",
       "    </tr>\n",
       "    <tr>\n",
       "      <th>50%</th>\n",
       "      <td>659.000000</td>\n",
       "      <td>37.000000</td>\n",
       "      <td>5.000000</td>\n",
       "      <td>2.000000</td>\n",
       "      <td>1.000000</td>\n",
       "      <td>0.000000</td>\n",
       "      <td>117946.300000</td>\n",
       "    </tr>\n",
       "    <tr>\n",
       "      <th>75%</th>\n",
       "      <td>710.000000</td>\n",
       "      <td>42.000000</td>\n",
       "      <td>7.000000</td>\n",
       "      <td>2.000000</td>\n",
       "      <td>1.000000</td>\n",
       "      <td>1.000000</td>\n",
       "      <td>154985.882500</td>\n",
       "    </tr>\n",
       "    <tr>\n",
       "      <th>max</th>\n",
       "      <td>850.000000</td>\n",
       "      <td>92.000000</td>\n",
       "      <td>10.000000</td>\n",
       "      <td>4.000000</td>\n",
       "      <td>1.000000</td>\n",
       "      <td>1.000000</td>\n",
       "      <td>199992.480000</td>\n",
       "    </tr>\n",
       "  </tbody>\n",
       "</table>\n",
       "</div>"
      ],
      "text/plain": [
       "         CreditScore            Age         Tenure  NumOfProducts  \\\n",
       "count  140278.000000  140278.000000  140278.000000  140278.000000   \n",
       "mean      656.406685      38.132314       5.021921       1.555076   \n",
       "std        80.129412       8.878197       2.808255       0.547598   \n",
       "min       350.000000      18.000000       0.000000       1.000000   \n",
       "25%       597.000000      32.000000       3.000000       1.000000   \n",
       "50%       659.000000      37.000000       5.000000       2.000000   \n",
       "75%       710.000000      42.000000       7.000000       2.000000   \n",
       "max       850.000000      92.000000      10.000000       4.000000   \n",
       "\n",
       "           HasCrCard  IsActiveMember  EstimatedSalary  \n",
       "count  140278.000000   140278.000000    140278.000000  \n",
       "mean        0.754523        0.497712    112497.066333  \n",
       "std         0.430371        0.499997     50344.878111  \n",
       "min         0.000000        0.000000        11.580000  \n",
       "25%         1.000000        0.000000     74510.650000  \n",
       "50%         1.000000        0.000000    117946.300000  \n",
       "75%         1.000000        1.000000    154985.882500  \n",
       "max         1.000000        1.000000    199992.480000  "
      ]
     },
     "execution_count": 57,
     "metadata": {},
     "output_type": "execute_result"
    }
   ],
   "source": [
    "\n",
    "X_train.describe()"
   ]
  },
  {
   "cell_type": "code",
   "execution_count": 58,
   "metadata": {},
   "outputs": [
    {
     "data": {
      "text/plain": [
       "(140278, 9)"
      ]
     },
     "execution_count": 58,
     "metadata": {},
     "output_type": "execute_result"
    }
   ],
   "source": [
    "X_train.shape"
   ]
  },
  {
   "cell_type": "code",
   "execution_count": 59,
   "metadata": {},
   "outputs": [
    {
     "data": {
      "text/plain": [
       "<Axes: >"
      ]
     },
     "execution_count": 59,
     "metadata": {},
     "output_type": "execute_result"
    },
    {
     "data": {
      "image/png": "[encoded data removed]",
      "text/plain": [
       "<Figure size 640x480 with 1 Axes>"
      ]
     },
     "metadata": {},
     "output_type": "display_data"
    }
   ],
   "source": [
    "X_train.Age.hist(bins=20)"
   ]
  },
  {
   "cell_type": "code",
   "execution_count": 60,
   "metadata": {},
   "outputs": [
    {
     "data": {
      "text/plain": [
       "<Axes: >"
      ]
     },
     "execution_count": 60,
     "metadata": {},
     "output_type": "execute_result"
    },
    {
     "data": {
      "image/png": "[encoded data removed]",
      "text/plain": [
       "<Figure size 640x480 with 1 Axes>"
      ]
     },
     "metadata": {},
     "output_type": "display_data"
    }
   ],
   "source": [
    "X_train.CreditScore.hist(bins=20)"
   ]
  },
  {
   "cell_type": "code",
   "execution_count": 61,
   "metadata": {},
   "outputs": [
    {
     "data": {
      "text/plain": [
       "Text(0.5, 0, 'percent exited')"
      ]
     },
     "execution_count": 61,
     "metadata": {},
     "output_type": "execute_result"
    },
    {
     "data": {
      "image/png": "[encoded data removed]",
      "text/plain": [
       "<Figure size 640x480 with 1 Axes>"
      ]
     },
     "metadata": {},
     "output_type": "display_data"
    }
   ],
   "source": [
    "pd.concat([X_train, y_train], axis=1).groupby('Gender').Exited.mean().plot(kind='barh').set_xlabel('percent exited')"
   ]
  },
  {
   "cell_type": "code",
   "execution_count": 62,
   "metadata": {},
   "outputs": [],
   "source": [
    "CATEGORICAL_COLUMNS = ['Geography', 'Gender','Tenure', 'NumOfProducts','HasCrCard','IsActiveMember']\n",
    "NUMERIC_COLUMNS = ['Age','CreditScore', 'EstimatedSalary'] #wasn't 100% sure on which was which\n",
    "\n",
    "feature_columns = []\n",
    "for feature_name in CATEGORICAL_COLUMNS:\n",
    "  vocabulary = X_train[feature_name].unique()  # gets a list of all unique values from given feature column\n",
    "  feature_columns.append(tf.feature_column.categorical_column_with_vocabulary_list(feature_name, vocabulary))\n",
    "\n",
    "for feature_name in NUMERIC_COLUMNS:\n",
    "  feature_columns.append(tf.feature_column.numeric_column(feature_name, dtype=tf.float32))"
   ]
  },
  {
   "cell_type": "code",
   "execution_count": 63,
   "metadata": {},
   "outputs": [],
   "source": [
    "def make_input_fn(data_df, label_df, num_epochs=10, shuffle=True, batch_size=32):\n",
    "  def input_function():  # inner function, this will be returned\n",
    "    ds = tf.data.Dataset.from_tensor_slices((dict(data_df), label_df))  # create tf.data.Dataset object with data and its label\n",
    "    if shuffle:\n",
    "      ds = ds.shuffle(1000)  # randomize order of data\n",
    "    ds = ds.batch(batch_size).repeat(num_epochs)  # split dataset into batches of 32 and repeat process for number of epochs\n",
    "    return ds  # return a batch of the dataset\n",
    "  return input_function  # return a function object for use\n",
    "\n",
    "train_input_fn = make_input_fn(X_train, y_train)  # here we will call the input_function that was returned to us to get a dataset object we can feed to the model\n",
    "eval_input_fn = make_input_fn(X_eval, y_eval, num_epochs=1, shuffle=False)\n",
    "\n"
   ]
  },
  {
   "cell_type": "code",
   "execution_count": 64,
   "metadata": {},
   "outputs": [
    {
     "name": "stdout",
     "output_type": "stream",
     "text": [
      "INFO:tensorflow:Using default config.\n",
      "WARNING:tensorflow:Using temporary folder as model directory: C:\\Users\\zslus\\AppData\\Local\\Temp\\tmpxslb2lnj\n",
      "INFO:tensorflow:Using config: {'_model_dir': 'C:\\\\Users\\\\zslus\\\\AppData\\\\Local\\\\Temp\\\\tmpxslb2lnj', '_tf_random_seed': None, '_save_summary_steps': 100, '_save_checkpoints_steps': None, '_save_checkpoints_secs': 600, '_session_config': allow_soft_placement: true\n",
      "graph_options {\n",
      "  rewrite_options {\n",
      "    meta_optimizer_iterations: ONE\n",
      "  }\n",
      "}\n",
      ", '_keep_checkpoint_max': 5, '_keep_checkpoint_every_n_hours': 10000, '_log_step_count_steps': 100, '_train_distribute': None, '_device_fn': None, '_protocol': None, '_eval_distribute': None, '_experimental_distribute': None, '_experimental_max_worker_delay_secs': None, '_session_creation_timeout_secs': 7200, '_checkpoint_save_graph_def': True, '_service': None, '_cluster_spec': ClusterSpec({}), '_task_type': 'worker', '_task_id': 0, '_global_id_in_cluster': 0, '_master': '', '_evaluation_master': '', '_is_chief': True, '_num_ps_replicas': 0, '_num_worker_replicas': 1}\n"
     ]
    }
   ],
   "source": [
    "linear_est = tf.estimator.LinearClassifier(feature_columns=feature_columns)\n",
    "# We create a linear estimtor by passing the feature columns we created earlier\n",
    "clear_output()"
   ]
  },
  {
   "cell_type": "code",
   "execution_count": 65,
   "metadata": {},
   "outputs": [
    {
     "name": "stdout",
     "output_type": "stream",
     "text": [
      "0.8000889\n"
     ]
    }
   ],
   "source": [
    "linear_est.train(train_input_fn)  # train\n",
    "result = linear_est.evaluate(eval_input_fn)  # get model metrics/stats by testing on tetsing data\n",
    "clear_output()  # clears consoke output\n",
    "print(result['accuracy'])  # the result variable is simply a dict of stats about our model\n"
   ]
  },
  {
   "cell_type": "code",
   "execution_count": 66,
   "metadata": {},
   "outputs": [
    {
     "name": "stdout",
     "output_type": "stream",
     "text": [
      "{'accuracy': 0.8000889, 'accuracy_baseline': 0.7872031, 'auc': 0.56461185, 'auc_precision_recall': 0.32325935, 'average_loss': 11.7810135, 'label/mean': 0.2127969, 'loss': 11.7809105, 'precision': 0.6609485, 'prediction/mean': 0.040175695, 'recall': 0.12433561, 'global_step': 43840}\n"
     ]
    }
   ],
   "source": [
    "print(result)"
   ]
  }
 ],
 "metadata": {
  "kernelspec": {
   "display_name": "Python 3",
   "language": "python",
   "name": "python3"
  },
  "language_info": {
   "codemirror_mode": {
    "name": "ipython",
    "version": 3
   },
   "file_extension": ".py",
   "mimetype": "text/x-python",
   "name": "python",
   "nbconvert_exporter": "python",
   "pygments_lexer": "ipython3",
   "version": "3.11.4"
  }
 },
 "nbformat": 4,
 "nbformat_minor": 2
}
